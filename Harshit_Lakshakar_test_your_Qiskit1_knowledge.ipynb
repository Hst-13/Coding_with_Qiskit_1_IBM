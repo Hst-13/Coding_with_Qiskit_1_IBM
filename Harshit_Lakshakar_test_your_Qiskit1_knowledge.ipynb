{
  "cells": [
    {
      "cell_type": "code",
      "source": [
        "!pip -q install qiskit\n",
        "!pip -q install qiskit-aer\n",
        "!pip -q install qiskit-ibm-runtime\n",
        "!pip -q install pylatexenc"
      ],
      "metadata": {
        "colab": {
          "base_uri": "https://localhost:8080/"
        },
        "id": "Ytf7KxYBphzq",
        "outputId": "43aab72c-fde0-44ba-f06e-38a2cef26374"
      },
      "id": "Ytf7KxYBphzq",
      "execution_count": 1,
      "outputs": [
        {
          "output_type": "stream",
          "name": "stdout",
          "text": [
            "\u001b[2K   \u001b[90m━━━━━━━━━━━━━━━━━━━━━━━━━━━━━━━━━━━━━━━━\u001b[0m \u001b[32m6.7/6.7 MB\u001b[0m \u001b[31m41.2 MB/s\u001b[0m eta \u001b[36m0:00:00\u001b[0m\n",
            "\u001b[2K   \u001b[90m━━━━━━━━━━━━━━━━━━━━━━━━━━━━━━━━━━━━━━━━\u001b[0m \u001b[32m119.4/119.4 kB\u001b[0m \u001b[31m4.9 MB/s\u001b[0m eta \u001b[36m0:00:00\u001b[0m\n",
            "\u001b[2K   \u001b[90m━━━━━━━━━━━━━━━━━━━━━━━━━━━━━━━━━━━━━━━━\u001b[0m \u001b[32m2.0/2.0 MB\u001b[0m \u001b[31m45.8 MB/s\u001b[0m eta \u001b[36m0:00:00\u001b[0m\n",
            "\u001b[2K   \u001b[90m━━━━━━━━━━━━━━━━━━━━━━━━━━━━━━━━━━━━━━━━\u001b[0m \u001b[32m49.5/49.5 kB\u001b[0m \u001b[31m1.9 MB/s\u001b[0m eta \u001b[36m0:00:00\u001b[0m\n",
            "\u001b[2K   \u001b[90m━━━━━━━━━━━━━━━━━━━━━━━━━━━━━━━━━━━━━━━━\u001b[0m \u001b[32m49.7/49.7 MB\u001b[0m \u001b[31m11.8 MB/s\u001b[0m eta \u001b[36m0:00:00\u001b[0m\n",
            "\u001b[2K   \u001b[90m━━━━━━━━━━━━━━━━━━━━━━━━━━━━━━━━━━━━━━━━\u001b[0m \u001b[32m108.5/108.5 kB\u001b[0m \u001b[31m4.1 MB/s\u001b[0m eta \u001b[36m0:00:00\u001b[0m\n",
            "\u001b[2K   \u001b[90m━━━━━━━━━━━━━━━━━━━━━━━━━━━━━━━━━━━━━━━━\u001b[0m \u001b[32m12.3/12.3 MB\u001b[0m \u001b[31m61.0 MB/s\u001b[0m eta \u001b[36m0:00:00\u001b[0m\n",
            "\u001b[2K   \u001b[90m━━━━━━━━━━━━━━━━━━━━━━━━━━━━━━━━━━━━━━━━\u001b[0m \u001b[32m2.9/2.9 MB\u001b[0m \u001b[31m26.1 MB/s\u001b[0m eta \u001b[36m0:00:00\u001b[0m\n",
            "\u001b[2K   \u001b[90m━━━━━━━━━━━━━━━━━━━━━━━━━━━━━━━━━━━━━━━━\u001b[0m \u001b[32m340.8/340.8 kB\u001b[0m \u001b[31m12.5 MB/s\u001b[0m eta \u001b[36m0:00:00\u001b[0m\n",
            "\u001b[2K   \u001b[90m━━━━━━━━━━━━━━━━━━━━━━━━━━━━━━━━━━━━━━━━\u001b[0m \u001b[32m69.4/69.4 kB\u001b[0m \u001b[31m2.1 MB/s\u001b[0m eta \u001b[36m0:00:00\u001b[0m\n",
            "\u001b[2K   \u001b[90m━━━━━━━━━━━━━━━━━━━━━━━━━━━━━━━━━━━━━━━━\u001b[0m \u001b[32m130.5/130.5 kB\u001b[0m \u001b[31m3.6 MB/s\u001b[0m eta \u001b[36m0:00:00\u001b[0m\n",
            "\u001b[2K     \u001b[90m━━━━━━━━━━━━━━━━━━━━━━━━━━━━━━━━━━━━━━━━\u001b[0m \u001b[32m162.6/162.6 kB\u001b[0m \u001b[31m3.2 MB/s\u001b[0m eta \u001b[36m0:00:00\u001b[0m\n",
            "\u001b[?25h  Preparing metadata (setup.py) ... \u001b[?25l\u001b[?25hdone\n",
            "  Building wheel for pylatexenc (setup.py) ... \u001b[?25l\u001b[?25hdone\n"
          ]
        }
      ]
    },
    {
      "cell_type": "code",
      "source": [
        "!pip show qiskit"
      ],
      "metadata": {
        "colab": {
          "base_uri": "https://localhost:8080/"
        },
        "id": "KO-m2Fvjpkd4",
        "outputId": "a53f1c70-1c88-49a8-f553-4e0429d5b06c"
      },
      "id": "KO-m2Fvjpkd4",
      "execution_count": 2,
      "outputs": [
        {
          "output_type": "stream",
          "name": "stdout",
          "text": [
            "Name: qiskit\n",
            "Version: 1.3.0\n",
            "Summary: An open-source SDK for working with quantum computers at the level of extended quantum circuits, operators, and primitives.\n",
            "Home-page: https://www.ibm.com/quantum/qiskit\n",
            "Author: \n",
            "Author-email: Qiskit Development Team <qiskit@us.ibm.com>\n",
            "License: Apache 2.0\n",
            "Location: /usr/local/lib/python3.10/dist-packages\n",
            "Requires: dill, numpy, python-dateutil, rustworkx, scipy, stevedore, symengine, sympy, typing-extensions\n",
            "Required-by: qiskit-aer, qiskit-ibm-runtime\n"
          ]
        }
      ]
    },
    {
      "cell_type": "code",
      "source": [
        "!pip show qiskit-ibm-runtime"
      ],
      "metadata": {
        "colab": {
          "base_uri": "https://localhost:8080/"
        },
        "id": "mdQtRSb3pmlZ",
        "outputId": "30ad3714-68dd-45cd-f1b8-7a5423c254a9"
      },
      "id": "mdQtRSb3pmlZ",
      "execution_count": 3,
      "outputs": [
        {
          "output_type": "stream",
          "name": "stdout",
          "text": [
            "Name: qiskit-ibm-runtime\n",
            "Version: 0.33.2\n",
            "Summary: IBM Quantum client for Qiskit Runtime.\n",
            "Home-page: https://github.com/Qiskit/qiskit-ibm-runtime\n",
            "Author: Qiskit Development Team\n",
            "Author-email: qiskit@us.ibm.com\n",
            "License: Apache 2.0\n",
            "Location: /usr/local/lib/python3.10/dist-packages\n",
            "Requires: ibm-platform-services, numpy, pydantic, python-dateutil, qiskit, requests, requests-ntlm, urllib3, websocket-client\n",
            "Required-by: \n"
          ]
        }
      ]
    },
    {
      "cell_type": "markdown",
      "id": "61717e57-9c68-4898-b977-23e8314b8109",
      "metadata": {
        "id": "61717e57-9c68-4898-b977-23e8314b8109"
      },
      "source": [
        "### Coding with Qiskit 1"
      ]
    },
    {
      "cell_type": "markdown",
      "id": "99ccdfad-99f8-4c09-9e5e-aa780edd0288",
      "metadata": {
        "id": "99ccdfad-99f8-4c09-9e5e-aa780edd0288"
      },
      "source": [
        "Before solving this notebook, make sure you have `Qiskit > 1.0` or higher and `Qiskit-ibm-runtime > 0.28` or higher installed. You must use `EstimatorV2` for your solution."
      ]
    },
    {
      "cell_type": "markdown",
      "id": "9474a9f2-2a16-4fbe-a827-05e9ef3a04a3",
      "metadata": {
        "id": "9474a9f2-2a16-4fbe-a827-05e9ef3a04a3"
      },
      "source": [
        "#### Creating the quantum circuit"
      ]
    },
    {
      "cell_type": "code",
      "execution_count": 4,
      "id": "80ff6644-bf94-4e9d-b31a-c83d1b21d300",
      "metadata": {
        "colab": {
          "base_uri": "https://localhost:8080/",
          "height": 577
        },
        "id": "80ff6644-bf94-4e9d-b31a-c83d1b21d300",
        "outputId": "46e31573-a4b5-4903-8e7b-4b1e2d4acc5d"
      },
      "outputs": [
        {
          "output_type": "execute_result",
          "data": {
            "text/plain": [
              "<Figure size 956.385x702.333 with 1 Axes>"
            ],
            "image/png": "[encoded data removed]"
          },
          "metadata": {},
          "execution_count": 4
        }
      ],
      "source": [
        "from qiskit.circuit import QuantumCircuit, Parameter\n",
        "\n",
        "theta = Parameter('θ')\n",
        "phi = Parameter('φ')\n",
        "num_qubits = 8\n",
        "num_steps = 2\n",
        "\n",
        "qc = QuantumCircuit(num_qubits)\n",
        "for _ in range(num_steps):\n",
        "    for i in range(1, num_qubits-1, 2):\n",
        "        qc.rzz(theta, i, i+1)\n",
        "    for i in range(0, num_qubits, 2):\n",
        "        qc.rzz(theta, i, i+1)\n",
        "    for i in range(num_qubits):\n",
        "        qc.rx(phi, i)\n",
        "\n",
        "qc.draw('mpl', fold=-1)"
      ]
    },
    {
      "cell_type": "markdown",
      "id": "c4a5dcf2-41c7-4351-81a0-499f43b78f46",
      "metadata": {
        "id": "c4a5dcf2-41c7-4351-81a0-499f43b78f46"
      },
      "source": [
        "The goal of this exercise will be to calculate the ideal and noisy expectation values of the specified observables for a range of parameter values. In particular, both $\\theta$ and $\\phi$ will be varied between $0$ and $\\pi$ in 5 equal intervals."
      ]
    },
    {
      "cell_type": "markdown",
      "id": "dcd05fc9-ccad-43aa-abac-c83132086a22",
      "metadata": {
        "id": "dcd05fc9-ccad-43aa-abac-c83132086a22"
      },
      "source": [
        "#### Q1. Generate parameters\n",
        "\n",
        "In this step you need to generate 5 equal interval values between $[0,\\pi]$ for each of $\\theta$ and $\\phi$. Create a copy of the circuit, assign a parameter of your choice, and draw the circuit."
      ]
    },
    {
      "cell_type": "code",
      "execution_count": 5,
      "id": "8883a285-7fe7-47a9-9a1d-8b84d11e6195",
      "metadata": {
        "colab": {
          "base_uri": "https://localhost:8080/"
        },
        "id": "8883a285-7fe7-47a9-9a1d-8b84d11e6195",
        "outputId": "3ca26e3c-4619-4056-981d-7c846ccc520a"
      },
      "outputs": [
        {
          "output_type": "execute_result",
          "data": {
            "text/plain": [
              "array([[0.        , 0.        ],\n",
              "       [0.78539816, 0.78539816],\n",
              "       [1.57079633, 1.57079633],\n",
              "       [2.35619449, 2.35619449],\n",
              "       [3.14159265, 3.14159265]])"
            ]
          },
          "metadata": {},
          "execution_count": 5
        }
      ],
      "source": [
        "### Your solution here\n",
        "import numpy as np\n",
        "\n",
        "params = np.vstack(\n",
        "    [\n",
        "        np.linspace(0, np.pi, 5, endpoint=True),\n",
        "        np.linspace(0, np.pi, 5, endpoint=True),\n",
        "    ]\n",
        ").T\n",
        "\n",
        "params"
      ]
    },
    {
      "cell_type": "code",
      "source": [
        "qc_1 = qc.copy()\n",
        "qc_1.assign_parameters({theta: params[2][0], phi: params[1][1]}, inplace=True)\n",
        "qc_1.draw('mpl', fold=-1)"
      ],
      "metadata": {
        "colab": {
          "base_uri": "https://localhost:8080/",
          "height": 577
        },
        "id": "K20gpcphqbNy",
        "outputId": "9bcceefe-6824-49aa-d62f-7687f8ed052c"
      },
      "id": "K20gpcphqbNy",
      "execution_count": 6,
      "outputs": [
        {
          "output_type": "execute_result",
          "data": {
            "text/plain": [
              "<Figure size 956.385x702.333 with 1 Axes>"
            ],
            "image/png": "[encoded data removed]"
          },
          "metadata": {},
          "execution_count": 6
        }
      ]
    },
    {
      "cell_type": "markdown",
      "id": "6d96ec03-3466-4132-90d1-a88ad76f4b31",
      "metadata": {
        "id": "6d96ec03-3466-4132-90d1-a88ad76f4b31"
      },
      "source": [
        "#### Q2. Transpile the circuit\n",
        "\n",
        "In this step you will consider `FakeKolkataV2` as your `backend`.\n",
        "\n",
        "- Transpile the circuit on this backend.\n",
        "- Print the different gates and their counts in the transpiled circuit.\n",
        "- Print the layout (i.e., the physical qubits on which the circuit is placed) of the transpiled circuit."
      ]
    },
    {
      "cell_type": "code",
      "execution_count": 7,
      "id": "7fbbc6b9-14f0-4a44-8441-d8a19bb91b79",
      "metadata": {
        "id": "7fbbc6b9-14f0-4a44-8441-d8a19bb91b79"
      },
      "outputs": [],
      "source": [
        "### Your solution here\n",
        "from qiskit_ibm_runtime.fake_provider import FakeKolkataV2\n",
        "from qiskit.transpiler.preset_passmanagers import generate_preset_pass_manager\n",
        "\n",
        "backend = FakeKolkataV2()\n",
        "pm = generate_preset_pass_manager(optimization_level=1, backend=backend)\n",
        "transpiled_circuit = pm.run(qc)"
      ]
    },
    {
      "cell_type": "code",
      "source": [
        "print(transpiled_circuit.count_ops())"
      ],
      "metadata": {
        "colab": {
          "base_uri": "https://localhost:8080/"
        },
        "id": "jtHEbgYLrQke",
        "outputId": "915f290a-36b2-44a8-f2c0-940eda6cec86"
      },
      "id": "jtHEbgYLrQke",
      "execution_count": 8,
      "outputs": [
        {
          "output_type": "stream",
          "name": "stdout",
          "text": [
            "OrderedDict([('rz', 62), ('sx', 32), ('cx', 28)])\n"
          ]
        }
      ]
    },
    {
      "cell_type": "code",
      "source": [
        "layout = transpiled_circuit.layout\n",
        "print(layout)"
      ],
      "metadata": {
        "colab": {
          "base_uri": "https://localhost:8080/"
        },
        "id": "kHS-cjWOraQa",
        "outputId": "b594712c-8132-4da2-ab8d-cd2f63a34235"
      },
      "id": "kHS-cjWOraQa",
      "execution_count": 9,
      "outputs": [
        {
          "output_type": "stream",
          "name": "stdout",
          "text": [
            "TranspileLayout(initial_layout=Layout({\n",
            "25: Qubit(QuantumRegister(8, 'q'), 1),\n",
            "24: Qubit(QuantumRegister(8, 'q'), 2),\n",
            "26: Qubit(QuantumRegister(8, 'q'), 0),\n",
            "23: Qubit(QuantumRegister(8, 'q'), 3),\n",
            "21: Qubit(QuantumRegister(8, 'q'), 4),\n",
            "18: Qubit(QuantumRegister(8, 'q'), 5),\n",
            "15: Qubit(QuantumRegister(8, 'q'), 6),\n",
            "12: Qubit(QuantumRegister(8, 'q'), 7),\n",
            "0: Qubit(QuantumRegister(19, 'ancilla'), 0),\n",
            "1: Qubit(QuantumRegister(19, 'ancilla'), 1),\n",
            "2: Qubit(QuantumRegister(19, 'ancilla'), 2),\n",
            "3: Qubit(QuantumRegister(19, 'ancilla'), 3),\n",
            "4: Qubit(QuantumRegister(19, 'ancilla'), 4),\n",
            "5: Qubit(QuantumRegister(19, 'ancilla'), 5),\n",
            "6: Qubit(QuantumRegister(19, 'ancilla'), 6),\n",
            "7: Qubit(QuantumRegister(19, 'ancilla'), 7),\n",
            "8: Qubit(QuantumRegister(19, 'ancilla'), 8),\n",
            "9: Qubit(QuantumRegister(19, 'ancilla'), 9),\n",
            "10: Qubit(QuantumRegister(19, 'ancilla'), 10),\n",
            "11: Qubit(QuantumRegister(19, 'ancilla'), 11),\n",
            "13: Qubit(QuantumRegister(19, 'ancilla'), 12),\n",
            "14: Qubit(QuantumRegister(19, 'ancilla'), 13),\n",
            "16: Qubit(QuantumRegister(19, 'ancilla'), 14),\n",
            "17: Qubit(QuantumRegister(19, 'ancilla'), 15),\n",
            "19: Qubit(QuantumRegister(19, 'ancilla'), 16),\n",
            "20: Qubit(QuantumRegister(19, 'ancilla'), 17),\n",
            "22: Qubit(QuantumRegister(19, 'ancilla'), 18)\n",
            "}), input_qubit_mapping={Qubit(QuantumRegister(8, 'q'), 0): 0, Qubit(QuantumRegister(8, 'q'), 1): 1, Qubit(QuantumRegister(8, 'q'), 2): 2, Qubit(QuantumRegister(8, 'q'), 3): 3, Qubit(QuantumRegister(8, 'q'), 4): 4, Qubit(QuantumRegister(8, 'q'), 5): 5, Qubit(QuantumRegister(8, 'q'), 6): 6, Qubit(QuantumRegister(8, 'q'), 7): 7, Qubit(QuantumRegister(19, 'ancilla'), 0): 8, Qubit(QuantumRegister(19, 'ancilla'), 1): 9, Qubit(QuantumRegister(19, 'ancilla'), 2): 10, Qubit(QuantumRegister(19, 'ancilla'), 3): 11, Qubit(QuantumRegister(19, 'ancilla'), 4): 12, Qubit(QuantumRegister(19, 'ancilla'), 5): 13, Qubit(QuantumRegister(19, 'ancilla'), 6): 14, Qubit(QuantumRegister(19, 'ancilla'), 7): 15, Qubit(QuantumRegister(19, 'ancilla'), 8): 16, Qubit(QuantumRegister(19, 'ancilla'), 9): 17, Qubit(QuantumRegister(19, 'ancilla'), 10): 18, Qubit(QuantumRegister(19, 'ancilla'), 11): 19, Qubit(QuantumRegister(19, 'ancilla'), 12): 20, Qubit(QuantumRegister(19, 'ancilla'), 13): 21, Qubit(QuantumRegister(19, 'ancilla'), 14): 22, Qubit(QuantumRegister(19, 'ancilla'), 15): 23, Qubit(QuantumRegister(19, 'ancilla'), 16): 24, Qubit(QuantumRegister(19, 'ancilla'), 17): 25, Qubit(QuantumRegister(19, 'ancilla'), 18): 26}, final_layout=None, _input_qubit_count=8, _output_qubit_list=[Qubit(QuantumRegister(27, 'q'), 0), Qubit(QuantumRegister(27, 'q'), 1), Qubit(QuantumRegister(27, 'q'), 2), Qubit(QuantumRegister(27, 'q'), 3), Qubit(QuantumRegister(27, 'q'), 4), Qubit(QuantumRegister(27, 'q'), 5), Qubit(QuantumRegister(27, 'q'), 6), Qubit(QuantumRegister(27, 'q'), 7), Qubit(QuantumRegister(27, 'q'), 8), Qubit(QuantumRegister(27, 'q'), 9), Qubit(QuantumRegister(27, 'q'), 10), Qubit(QuantumRegister(27, 'q'), 11), Qubit(QuantumRegister(27, 'q'), 12), Qubit(QuantumRegister(27, 'q'), 13), Qubit(QuantumRegister(27, 'q'), 14), Qubit(QuantumRegister(27, 'q'), 15), Qubit(QuantumRegister(27, 'q'), 16), Qubit(QuantumRegister(27, 'q'), 17), Qubit(QuantumRegister(27, 'q'), 18), Qubit(QuantumRegister(27, 'q'), 19), Qubit(QuantumRegister(27, 'q'), 20), Qubit(QuantumRegister(27, 'q'), 21), Qubit(QuantumRegister(27, 'q'), 22), Qubit(QuantumRegister(27, 'q'), 23), Qubit(QuantumRegister(27, 'q'), 24), Qubit(QuantumRegister(27, 'q'), 25), Qubit(QuantumRegister(27, 'q'), 26)])\n"
          ]
        }
      ]
    },
    {
      "cell_type": "markdown",
      "id": "ea7b285e-d168-4c43-a4b3-8c5506cae88a",
      "metadata": {
        "id": "ea7b285e-d168-4c43-a4b3-8c5506cae88a"
      },
      "source": [
        "#### Q3. Construct observable\n",
        "\n",
        "In this step you will\n",
        "\n",
        "- Construct the following observable: $\\sum_{i=1}^{N}\\langle Z_i \\rangle / N$ where $N$ is the number of qubits.\n",
        "- Apply the layout of the transpiled circuit to this observable. Print the observable after applying layout."
      ]
    },
    {
      "cell_type": "code",
      "source": [
        "num_qubits = qc.num_qubits\n",
        "num_qubits"
      ],
      "metadata": {
        "colab": {
          "base_uri": "https://localhost:8080/"
        },
        "id": "wo9ZMYBHr9xE",
        "outputId": "061d2fe9-77f2-4d5e-d046-c1ce3d75128f"
      },
      "id": "wo9ZMYBHr9xE",
      "execution_count": 10,
      "outputs": [
        {
          "output_type": "execute_result",
          "data": {
            "text/plain": [
              "8"
            ]
          },
          "metadata": {},
          "execution_count": 10
        }
      ]
    },
    {
      "cell_type": "code",
      "execution_count": 33,
      "id": "4326164d-9824-4ef7-ba15-d0213637c6f7",
      "metadata": {
        "colab": {
          "base_uri": "https://localhost:8080/"
        },
        "id": "4326164d-9824-4ef7-ba15-d0213637c6f7",
        "outputId": "c9df2ad9-6ef0-4cbb-cd89-11533d4c0a34"
      },
      "outputs": [
        {
          "output_type": "execute_result",
          "data": {
            "text/plain": [
              "SparsePauliOp(['IIIIIIIZ', 'IIIIIIZI', 'IIIIIZII', 'IIIIZIII', 'IIIZIIII', 'IIZIIIII', 'IZIIIIII', 'ZIIIIIII'],\n",
              "              coeffs=[1.+0.j, 1.+0.j, 1.+0.j, 1.+0.j, 1.+0.j, 1.+0.j, 1.+0.j, 1.+0.j])"
            ]
          },
          "metadata": {},
          "execution_count": 33
        }
      ],
      "source": [
        "### Your solution here\n",
        "from qiskit.quantum_info import SparsePauliOp\n",
        "\n",
        "num_qubits = qc.num_qubits\n",
        "\n",
        "observable = SparsePauliOp.from_sparse_list([('Z', [i], 1) for i in range(num_qubits)], num_qubits=num_qubits)\n",
        "observable"
      ]
    },
    {
      "cell_type": "code",
      "source": [
        "hamiltonian = observable.apply_layout(layout=layout)\n",
        "hamiltonian"
      ],
      "metadata": {
        "colab": {
          "base_uri": "https://localhost:8080/"
        },
        "id": "16_TChVYt2cJ",
        "outputId": "669d7f67-ff8f-4868-a354-3a127514483a"
      },
      "id": "16_TChVYt2cJ",
      "execution_count": 34,
      "outputs": [
        {
          "output_type": "execute_result",
          "data": {
            "text/plain": [
              "SparsePauliOp(['ZIIIIIIIIIIIIIIIIIIIIIIIIII', 'IZIIIIIIIIIIIIIIIIIIIIIIIII', 'IIZIIIIIIIIIIIIIIIIIIIIIIII', 'IIIZIIIIIIIIIIIIIIIIIIIIIII', 'IIIIIZIIIIIIIIIIIIIIIIIIIII', 'IIIIIIIIZIIIIIIIIIIIIIIIIII', 'IIIIIIIIIIIZIIIIIIIIIIIIIII', 'IIIIIIIIIIIIIIZIIIIIIIIIIII'],\n",
              "              coeffs=[1.+0.j, 1.+0.j, 1.+0.j, 1.+0.j, 1.+0.j, 1.+0.j, 1.+0.j, 1.+0.j])"
            ]
          },
          "metadata": {},
          "execution_count": 34
        }
      ]
    },
    {
      "cell_type": "markdown",
      "id": "61173185-5e05-48cc-a542-e02acfec3eb6",
      "metadata": {
        "id": "61173185-5e05-48cc-a542-e02acfec3eb6"
      },
      "source": [
        "#### Q4. Prepare for execution\n",
        "\n",
        "In this step you will create\n",
        "\n",
        "- Primitive Unified Bloc (PUB) for each possible parameter combination (i.e., there will be $5\\times5 = 25$ possible parameter combinations)."
      ]
    },
    {
      "cell_type": "code",
      "source": [
        "vtheta = np.linspace(0, np.pi, 5, endpoint=True)\n",
        "vphi = np.linspace(0, np.pi, 5, endpoint=True)\n",
        "\n",
        "params = np.array([[t, p] for t in vtheta for p in vphi])\n",
        "\n",
        "params"
      ],
      "metadata": {
        "colab": {
          "base_uri": "https://localhost:8080/"
        },
        "id": "S_jI4ebKuJ1x",
        "outputId": "64e7431e-a120-4ccb-82e4-1a08c1448575"
      },
      "id": "S_jI4ebKuJ1x",
      "execution_count": 13,
      "outputs": [
        {
          "output_type": "execute_result",
          "data": {
            "text/plain": [
              "array([[0.        , 0.        ],\n",
              "       [0.        , 0.78539816],\n",
              "       [0.        , 1.57079633],\n",
              "       [0.        , 2.35619449],\n",
              "       [0.        , 3.14159265],\n",
              "       [0.78539816, 0.        ],\n",
              "       [0.78539816, 0.78539816],\n",
              "       [0.78539816, 1.57079633],\n",
              "       [0.78539816, 2.35619449],\n",
              "       [0.78539816, 3.14159265],\n",
              "       [1.57079633, 0.        ],\n",
              "       [1.57079633, 0.78539816],\n",
              "       [1.57079633, 1.57079633],\n",
              "       [1.57079633, 2.35619449],\n",
              "       [1.57079633, 3.14159265],\n",
              "       [2.35619449, 0.        ],\n",
              "       [2.35619449, 0.78539816],\n",
              "       [2.35619449, 1.57079633],\n",
              "       [2.35619449, 2.35619449],\n",
              "       [2.35619449, 3.14159265],\n",
              "       [3.14159265, 0.        ],\n",
              "       [3.14159265, 0.78539816],\n",
              "       [3.14159265, 1.57079633],\n",
              "       [3.14159265, 2.35619449],\n",
              "       [3.14159265, 3.14159265]])"
            ]
          },
          "metadata": {},
          "execution_count": 13
        }
      ]
    },
    {
      "cell_type": "code",
      "execution_count": 44,
      "id": "24dc1d88-f843-4ec9-82d6-5ed980c94cd1",
      "metadata": {
        "id": "24dc1d88-f843-4ec9-82d6-5ed980c94cd1"
      },
      "outputs": [],
      "source": [
        "### Your solution here\n",
        "pubs = []\n",
        "\n",
        "for t in vtheta:\n",
        "  for p in vphi:\n",
        "    pubs.append((transpiled_circuit, hamiltonian, [[t, p]]))"
      ]
    },
    {
      "cell_type": "code",
      "source": [
        "pubs[0]"
      ],
      "metadata": {
        "colab": {
          "base_uri": "https://localhost:8080/"
        },
        "id": "PefzFfFL9sxz",
        "outputId": "d24de6c9-6883-4815-8290-930b694da8c1"
      },
      "id": "PefzFfFL9sxz",
      "execution_count": 45,
      "outputs": [
        {
          "output_type": "execute_result",
          "data": {
            "text/plain": [
              "(<qiskit.circuit.quantumcircuit.QuantumCircuit at 0x7ebcccfc3c10>,\n",
              " SparsePauliOp(['ZIIIIIIIIIIIIIIIIIIIIIIIIII', 'IZIIIIIIIIIIIIIIIIIIIIIIIII', 'IIZIIIIIIIIIIIIIIIIIIIIIIII', 'IIIZIIIIIIIIIIIIIIIIIIIIIII', 'IIIIIZIIIIIIIIIIIIIIIIIIIII', 'IIIIIIIIZIIIIIIIIIIIIIIIIII', 'IIIIIIIIIIIZIIIIIIIIIIIIIII', 'IIIIIIIIIIIIIIZIIIIIIIIIIII'],\n",
              "               coeffs=[1.+0.j, 1.+0.j, 1.+0.j, 1.+0.j, 1.+0.j, 1.+0.j, 1.+0.j, 1.+0.j]),\n",
              " [[0.0, 0.0]])"
            ]
          },
          "metadata": {},
          "execution_count": 45
        }
      ]
    },
    {
      "cell_type": "markdown",
      "id": "b810e04c-3f00-41b0-97eb-2e6a9b8f9b62",
      "metadata": {
        "id": "b810e04c-3f00-41b0-97eb-2e6a9b8f9b62"
      },
      "source": [
        "#### Q5. Noiseless execution\n",
        "\n",
        "In this step you will\n",
        "\n",
        "- Construct a `StatevectorEstimator`\n",
        "- Execute all the PUBs as a **single job**\n",
        "- Obtain the expectation value for each parameter combination; store the result"
      ]
    },
    {
      "cell_type": "code",
      "execution_count": null,
      "id": "858c31a4-551e-40eb-8d28-66c7266bb470",
      "metadata": {
        "id": "858c31a4-551e-40eb-8d28-66c7266bb470"
      },
      "outputs": [],
      "source": [
        "### Your solution here\n",
        "from qiskit.primitives import StatevectorEstimator\n",
        "\n",
        "noiseless_results = []\n",
        "estimator = StatevectorEstimator()\n",
        "\n",
        "for i in range(len(pubs)):\n",
        "\n",
        "  pub = pubs[i]\n",
        "  job = estimator.run([pub])\n",
        "  noiseless_results.append(job.result())"
      ]
    },
    {
      "cell_type": "markdown",
      "id": "8ca82c63-5346-458c-90dc-774ba5d72f34",
      "metadata": {
        "id": "8ca82c63-5346-458c-90dc-774ba5d72f34"
      },
      "source": [
        "#### Q6. Noisy execution\n",
        "\n",
        "In this step you will\n",
        "\n",
        "- Construct an `EstimatorV2` object with `FakeKolkataV2` as the backend\n",
        "- Execute all the PUBs as a **single job**\n",
        "- Obtain the expectation value for each parameter combination\n",
        "- In a single plot where X-axis is $\\theta$ and Y-axis is $\\Phi$, plot the outcomes of the noisy and noiseless expectation values"
      ]
    },
    {
      "cell_type": "code",
      "execution_count": 46,
      "id": "e4deebba-d5bf-4c2e-b99e-36b51590424a",
      "metadata": {
        "id": "e4deebba-d5bf-4c2e-b99e-36b51590424a"
      },
      "outputs": [],
      "source": [
        "### Your solution here\n",
        "from qiskit_ibm_runtime import EstimatorV2\n",
        "\n",
        "noisy_results = []\n",
        "estimator = EstimatorV2(mode=backend)\n",
        "\n",
        "for i in range(len(pubs)):\n",
        "\n",
        "  pub = pubs[i]\n",
        "  job = estimator.run([pub])\n",
        "  noisy_results.append(job.result())"
      ]
    },
    {
      "cell_type": "code",
      "source": [
        "noisy_results[0][0].data.evs"
      ],
      "metadata": {
        "colab": {
          "base_uri": "https://localhost:8080/"
        },
        "id": "gi91_C97_DH9",
        "outputId": "a1c0b9c7-a874-40ce-90d4-025dafc1cacb"
      },
      "id": "gi91_C97_DH9",
      "execution_count": 48,
      "outputs": [
        {
          "output_type": "execute_result",
          "data": {
            "text/plain": [
              "array([7.68945312])"
            ]
          },
          "metadata": {},
          "execution_count": 48
        }
      ]
    },
    {
      "cell_type": "code",
      "source": [
        "noisy_result[0].data.evs"
      ],
      "metadata": {
        "colab": {
          "base_uri": "https://localhost:8080/"
        },
        "id": "smwKQHWe47l6",
        "outputId": "a698fb11-aa5a-4db0-953c-3cc2037db373"
      },
      "id": "smwKQHWe47l6",
      "execution_count": 37,
      "outputs": [
        {
          "output_type": "execute_result",
          "data": {
            "text/plain": [
              "array([ 7.70019531,  0.125     , -7.47216797, -0.02490234,  7.515625  ,\n",
              "        7.72607422,  2.51806641, -4.19189453,  2.34423828,  7.51904297,\n",
              "        7.70849609,  5.21972656, -0.06005859,  5.09277344,  7.51123047,\n",
              "        7.71386719,  3.81103516, -1.39550781,  3.78662109,  7.52294922,\n",
              "        7.72070312,  2.08105469, -3.66162109,  1.92578125,  7.53466797])"
            ]
          },
          "metadata": {},
          "execution_count": 37
        }
      ]
    },
    {
      "cell_type": "markdown",
      "id": "902cd84f-a9fa-4d5e-b263-f0cd2d1c1849",
      "metadata": {
        "id": "902cd84f-a9fa-4d5e-b263-f0cd2d1c1849"
      },
      "source": [
        "#### Q7. Building towards error mitigation\n",
        "\n",
        "In this step you will create the framework for error mitigation. Obtaining error mitigated results in not possible on a noisy simulator. For this example, we want the following\n",
        "\n",
        "- Apply Dynamical Decoupling with `XY4` pulse\n",
        "- Apply Zero Noise Extrapolation with `[1,2,3]` as the noise factors and `exponential` extrapolator\n",
        "- Turn on Gate Twirling\n",
        "- Turn off Measurement Twirling\n",
        "- Turn off Measurement Error Mitigation\n",
        "\n",
        "Construct an `EstimatorV2` object with the previously stated error mitigation and suppression options."
      ]
    },
    {
      "cell_type": "code",
      "execution_count": 20,
      "id": "9e488beb-93ef-4f61-b50f-45a7062f381e",
      "metadata": {
        "id": "9e488beb-93ef-4f61-b50f-45a7062f381e"
      },
      "outputs": [],
      "source": [
        "### Your solution here\n",
        "estimator2 = EstimatorV2(mode=backend)\n",
        "options = estimator2.options\n",
        "\n",
        "options.dynamical_decoupling.enable = True\n",
        "options.dynamical_decoupling.sequence_type = \"XY4\"\n",
        "\n",
        "options.resilience.zne_mitigation = True\n",
        "options.resilience.zne.noise_factors = (1, 2, 3)\n",
        "options.resilience.zne.extrapolator = \"exponential\"\n",
        "\n",
        "options.twirling.enable_gates = True\n",
        "options.twirling.enable_measure = False\n",
        "options.resilience.measure_mitigation = False"
      ]
    },
    {
      "cell_type": "code",
      "source": [
        "job = estimator2.run([pub])\n",
        "mitigation_result = job.result()"
      ],
      "metadata": {
        "id": "YEtjIYSA3DPA",
        "colab": {
          "base_uri": "https://localhost:8080/"
        },
        "outputId": "d27e0404-7294-4323-ac6a-3cd90e9a7437"
      },
      "id": "YEtjIYSA3DPA",
      "execution_count": 21,
      "outputs": [
        {
          "output_type": "stream",
          "name": "stderr",
          "text": [
            "/usr/local/lib/python3.10/dist-packages/qiskit_ibm_runtime/fake_provider/local_service.py:233: UserWarning: Options {'dynamical_decoupling': {'enable': True, 'sequence_type': 'XY4'}, 'resilience': {'measure_mitigation': False, 'zne_mitigation': True, 'zne': {'noise_factors': (1.0, 2.0, 3.0), 'extrapolator': 'exponential'}}, 'twirling': {'enable_gates': True, 'enable_measure': False}} have no effect in local testing mode.\n",
            "  warnings.warn(f\"Options {options_copy} have no effect in local testing mode.\")\n"
          ]
        }
      ]
    },
    {
      "cell_type": "code",
      "source": [
        "mitigation_result[0].data.evs"
      ],
      "metadata": {
        "colab": {
          "base_uri": "https://localhost:8080/"
        },
        "id": "9hf4nKMm5IE7",
        "outputId": "6c1acdff-7fe2-4913-dd84-4d3deba2a587"
      },
      "id": "9hf4nKMm5IE7",
      "execution_count": 24,
      "outputs": [
        {
          "output_type": "execute_result",
          "data": {
            "text/plain": [
              "array([ 7.70996094,  0.12744141, -7.51855469,  0.05175781,  7.5078125 ,\n",
              "        7.70996094,  2.47802734, -4.17871094,  2.44384766,  7.50683594,\n",
              "        7.71289062,  5.17724609,  0.08300781,  5.12597656,  7.51123047,\n",
              "        7.70458984,  3.90917969, -1.38769531,  3.65039062,  7.54394531,\n",
              "        7.72363281,  1.98193359, -3.65917969,  1.96484375,  7.50634766])"
            ]
          },
          "metadata": {},
          "execution_count": 24
        }
      ]
    },
    {
      "cell_type": "code",
      "source": [
        "mitigation_results = []\n",
        "\n",
        "for i in range(len(pubs)):\n",
        "\n",
        "  pub = pubs[i]\n",
        "  job = estimator2.run([pub])\n",
        "  mitigation_results.append(job.result())"
      ],
      "metadata": {
        "id": "wMgNMj_35Oz1"
      },
      "id": "wMgNMj_35Oz1",
      "execution_count": null,
      "outputs": []
    }
  ],
  "metadata": {
    "kernelspec": {
      "display_name": "Python 3 (ipykernel)",
      "language": "python",
      "name": "python3"
    },
    "language_info": {
      "codemirror_mode": {
        "name": "ipython",
        "version": 3
      },
      "file_extension": ".py",
      "mimetype": "text/x-python",
      "name": "python",
      "nbconvert_exporter": "python",
      "pygments_lexer": "ipython3",
      "version": "3.12.1"
    },
    "colab": {
      "provenance": []
    }
  },
  "nbformat": 4,
  "nbformat_minor": 5
}